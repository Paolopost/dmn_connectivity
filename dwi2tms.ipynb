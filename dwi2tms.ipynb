{
 "cells": [
  {
   "cell_type": "code",
   "execution_count": 21,
   "metadata": {
    "collapsed": false
   },
   "outputs": [
    {
     "name": "stdout",
     "output_type": "stream",
     "text": [
      "/N/dc2/projects/lifebid/Paolo/code/re_dwi/sandbox\n"
     ]
    }
   ],
   "source": [
    "%cd /N/dc2/projects/lifebid/Paolo/code/re_dwi/sandbox"
   ]
  },
  {
   "cell_type": "code",
   "execution_count": 81,
   "metadata": {
    "collapsed": false
   },
   "outputs": [],
   "source": [
    "sub = '00'"
   ]
  },
  {
   "cell_type": "markdown",
   "metadata": {},
   "source": [
    "#### Setting Filenames"
   ]
  },
  {
   "cell_type": "code",
   "execution_count": 83,
   "metadata": {
    "collapsed": false
   },
   "outputs": [],
   "source": [
    "dicom_dwi = 'input/sub-%s/dwi' % sub\n",
    "dicom_t1w = 'input/sub-%s/anat' % sub\n",
    "\n",
    "dwi_dir = 'sub-%s/dwi' % sub\n",
    "dwi_src = 'sub-%s_dwi' % sub\n",
    "!mkdir -p {dwi_dir}\n",
    "\n",
    "dwi_pre = 'derivatives/preprocess/sub-%s' % sub\n",
    "!mkdir -p {dwi_pre}\n",
    "\n",
    "b0_src = 'sub-%s_var-b0src_dwi' % sub\n",
    "b0_otsu = 'sub-%s_var-b0otsu_dwi' % sub\n",
    "dwi_nodif = 'sub-%s_var-otsu_dwi_mask' % sub\n",
    "dwi_ecc = 'sub-%s_var-ecc_dwi' % sub\n",
    "b0_ecc = 'sub-%s_var-b0ecc_dwi' % sub\n",
    "\n",
    "t1w_dir = 'sub-%s/anat' % sub\n",
    "t1w_src = 'sub-%s_T1w.nii.gz' % sub\n",
    "!mkdir -p {t1w_dir}\n",
    "\n",
    "t1w_pre = 'derivatives/preprocess/sub-%s' % sub\n",
    "!mkdir -p {t1w_pre}\n",
    "t1w_bet = 'sub-%s_var-bet_T1w.nii.gz' % sub\n",
    "t1w_mas = 'sub-%s_var-bet_T1w_mask.nii.gz' % sub\n",
    "t1w_5tt = 'sub-%s_var-fsl_dtissue.nii.gz' % sub\n",
    "\n",
    "fs_dir = 'derivatives/freesurfer/sub-%s' % sub\n",
    "!mkdir -p {fs_dir}\n",
    "fs_mas = 'sub-%s_var-fs_T1w_mask.nii.gz' % sub\n",
    "fs_t1w = 'sub-%s_var-fs_T1w.nii.gz' % sub\n",
    "\n",
    "t1w_fsl_wmm = 'sub-%s_var-fsl_space-T1w_class-wm_dtissue.nii.gz' % sub\n",
    "b0_fsl_omat = 'sub-%s_var-fsl_affine.mat' % sub\n",
    "dwi_fsl_wmm = 'sub-%s_var-fsl_space-dwi_class-wm_dtissue.nii.gz' % sub\n"
   ]
  },
  {
   "cell_type": "markdown",
   "metadata": {},
   "source": [
    "#### Import and convert diffusion data"
   ]
  },
  {
   "cell_type": "code",
   "execution_count": 5,
   "metadata": {
    "collapsed": false,
    "scrolled": true
   },
   "outputs": [
    {
     "name": "stdout",
     "output_type": "stream",
     "text": [
      "Chris Rorden's dcm2nii :: 1JUNE2015 64bit BSD License\n",
      "reading preferences file /N/u/pavesani/Karst/.dcm2nii/dcm2nii.ini\n",
      "Data will be exported to _tmp_dcm2nii/\n",
      "Validating 1750 potential DICOM images.\n",
      "Found 1750 DICOM images.\n",
      "Converting 1750/1750  volumes: 35\n",
      "1.3.12.2.1107.5.2.13.18805.30000017101606244498400005868.DCM->13122110752131880530000017101606244498400005868.nii\n",
      " Warning: Siemens interleaved acquisition with an even number of slices. Assume even slices acquired PRIOR to odd slices. https://wiki.cimec.unitn.it/tiki-index.php?page=MRIBOLDfMRI\n",
      "For slice timing correction: the slice order is Siemens-even interleaved ascending (2,4..,1,3...)\n",
      " brightest voxel was 4095: data will be saved as 16-bit signed integer.\n",
      "Saving _tmp_dcm2nii/13122110752131880530000017101606244498400005868.nii\n",
      "Number of diffusion directions = 35\n"
     ]
    }
   ],
   "source": [
    "tmpdir = '_tmp_dcm2nii'\n",
    "!mkdir -p {tmpdir}\n",
    "\n",
    "!dcm2nii -f y -e n -p n -a n -d n -g n -i n -o {tmpdir} {dicom_dwi}\n",
    "\n",
    "fname = !basename {tmpdir}/*.bval\n",
    "fname = fname[0].strip('.bval')\n",
    "!mv {tmpdir}/{fname}.nii {dwi_dir}/{dwi_src}.nii\n",
    "!gzip -f {dwi_dir}/{dwi_src}.nii\n",
    "!mv {tmpdir}/{fname}.bval {dwi_dir}/{dwi_src}.bvals\n",
    "!mv {tmpdir}/{fname}.bvec {dwi_dir}/{dwi_src}.bvecs\n",
    "!rm -r {tmpdir}"
   ]
  },
  {
   "cell_type": "code",
   "execution_count": 6,
   "metadata": {
    "collapsed": true
   },
   "outputs": [],
   "source": [
    "!mrconvert {dwi_dir}/{dwi_src}.nii.gz {dwi_dir}/{dwi_src}.mif \\\n",
    "    -fslgrad {dwi_dir}/{dwi_src}.bvecs {dwi_dir}/{dwi_src}.bvals \\\n",
    "    -datatype float32 -stride 0,0,0,1 -nthreads 5 -force -quiet"
   ]
  },
  {
   "cell_type": "markdown",
   "metadata": {},
   "source": [
    "Diffusion brain mask"
   ]
  },
  {
   "cell_type": "code",
   "execution_count": 65,
   "metadata": {
    "collapsed": false
   },
   "outputs": [],
   "source": [
    "!dwiextract  {dwi_dir}/{dwi_src}.mif - -shell 0 -quiet | mrmath - mean {dwi_pre}/{b0_src}.mif -axis 3 -force -quiet \n",
    "!mrconvert {dwi_pre}/{b0_src}.mif {dwi_pre}/{b0_src}.nii.gz -force -quiet"
   ]
  },
  {
   "cell_type": "code",
   "execution_count": 67,
   "metadata": {
    "collapsed": false
   },
   "outputs": [],
   "source": [
    "import cmd_median_otsu as cmo\n",
    "mo_src = dwi_pre + '/' + b0_src + '.nii.gz'\n",
    "mo_out = dwi_pre + '/' + b0_otsu + '.nii.gz'\n",
    "mo_mask = dwi_pre + '/' + dwi_nodif + '.nii.gz'\n",
    "cmo.cmd_median_otsu(mo_src, mo_out, mo_mask)\n",
    "!mrconvert {dwi_pre}/{b0_otsu}.nii.gz {dwi_pre}/{b0_otsu}.mif -force -quiet\n",
    "!mrconvert {dwi_pre}/{dwi_nodif}.nii.gz {dwi_pre}/{dwi_nodif}.mif -force -quiet"
   ]
  },
  {
   "cell_type": "markdown",
   "metadata": {},
   "source": [
    "Eddy correction"
   ]
  },
  {
   "cell_type": "code",
   "execution_count": null,
   "metadata": {
    "collapsed": false,
    "scrolled": true
   },
   "outputs": [],
   "source": [
    "!dwipreproc AP {dwi_dir}/{dwi_src}.mif {dwi_pre}/{dwi_ecc}.mif -rpe_none -force -quiet"
   ]
  },
  {
   "cell_type": "code",
   "execution_count": null,
   "metadata": {
    "collapsed": true
   },
   "outputs": [],
   "source": [
    "!dwiextract  {dwi_dir}/{dwi_src}.mif - -shell 0 -quiet | mrmath - mean {dwi_pre}/{b0_ecc}.mif -axis 3 -force -quiet\n",
    "!mrconvert {dwi_pre}/{b0_ecc}.mif {dwi_pre}/{b0_ecc}.nii.gz -force -quiet"
   ]
  },
  {
   "cell_type": "code",
   "execution_count": null,
   "metadata": {
    "collapsed": true
   },
   "outputs": [],
   "source": []
  },
  {
   "cell_type": "markdown",
   "metadata": {},
   "source": [
    "#### Import structural data"
   ]
  },
  {
   "cell_type": "code",
   "execution_count": 36,
   "metadata": {
    "collapsed": false
   },
   "outputs": [],
   "source": [
    "!cp {dicom_t1w}/{t1w_src} {t1w_dir}/{t1w_src}"
   ]
  },
  {
   "cell_type": "markdown",
   "metadata": {},
   "source": [
    "#### Brain extraction with 'bet'"
   ]
  },
  {
   "cell_type": "code",
   "execution_count": 42,
   "metadata": {
    "collapsed": false
   },
   "outputs": [],
   "source": [
    "!bet {t1w_dir}/{t1w_src} {t1w_pre}/{t1w_bet} -R -m"
   ]
  },
  {
   "cell_type": "markdown",
   "metadata": {},
   "source": [
    "#### Brain structure segmentation with FSL"
   ]
  },
  {
   "cell_type": "code",
   "execution_count": 45,
   "metadata": {
    "collapsed": false,
    "scrolled": true
   },
   "outputs": [
    {
     "name": "stdout",
     "output_type": "stream",
     "text": [
      "5ttgen: \u001b[00;31m[WARNING] Output file sub-00_var-fsl_dtissue.nii.gz already exists; will be overwritten at script completion\u001b[0m\r\n"
     ]
    }
   ],
   "source": [
    "!5ttgen fsl {t1w_pre}/{t1w_bet} {t1w_pre}/{t1w_5tt} -premasked -nocrop -force -quiet"
   ]
  },
  {
   "cell_type": "markdown",
   "metadata": {},
   "source": [
    "#### Brain structure segmentation with FREESURFER"
   ]
  },
  {
   "cell_type": "code",
   "execution_count": null,
   "metadata": {
    "collapsed": true
   },
   "outputs": [],
   "source": [
    "!SUBJECTS_DIR={fs_dir}; recon-all -all -i {t1w_dir}/{t1w_src} -s freesurfer -parallel"
   ]
  },
  {
   "cell_type": "markdown",
   "metadata": {},
   "source": [
    "#### White Matter mask segmentation with FSL"
   ]
  },
  {
   "cell_type": "code",
   "execution_count": 48,
   "metadata": {
    "collapsed": false
   },
   "outputs": [],
   "source": [
    "tmpdir = '_tmp_wm'\n",
    "!mkdir -p {tmpdir}\n",
    "!fslsplit {wdir}/{tt5} {tmpdir}/wm_ -t \n",
    "!mv {tmpdir}/wm_0002.nii.gz {t1w_pre}/{t1w_fsl_wmm}\n",
    "!rm -r {tmpdir}"
   ]
  },
  {
   "cell_type": "code",
   "execution_count": 70,
   "metadata": {
    "collapsed": false
   },
   "outputs": [],
   "source": [
    "!flirt -in {t1w_pre}/{t1w_fsl_wmm} \\\n",
    "    -ref {dwi_pre}/{b0_ecc} \\\n",
    "    -omat {t1w_pre}/{b0_fsl_omat} \n",
    "!flirt -in {tiw_pre}/{t1w_fsl_wmm} \\\n",
    "    -ref {dwi_pre}/{b0_ecc} \\\n",
    "    -applyxfm -init {t1w_pre}/{b0_fsl_omat} \\\n",
    "    -out {t1w_pre}/{dwi_fsl_wmm} \\\n",
    "    -interp nearestneighbour"
   ]
  },
  {
   "cell_type": "markdown",
   "metadata": {},
   "source": [
    "#### White Matter mask segmentation with FREESURFER"
   ]
  },
  {
   "cell_type": "code",
   "execution_count": null,
   "metadata": {
    "collapsed": true
   },
   "outputs": [],
   "source": [
    "from wm_from_aparc_aseg import wm_from_aparc_aseg\n",
    "wdir = 'derivatives/preprocess/sub-%s/anat' % sub\n",
    "t1w_wmm = t1w_pre + '/' + 'sub-%s_var-fs_space-T1w_class-wm_dtissue.nii.gz' % sub\n",
    "aparc_aseg = fs_dir + '/' + \n",
    "wm_from_aparc_aseg(aparc_aseg, t1w_wmm)"
   ]
  },
  {
   "cell_type": "code",
   "execution_count": null,
   "metadata": {
    "collapsed": false
   },
   "outputs": [],
   "source": [
    "omat = 'sub-%s_var-fs_affine.mat' % sub\n",
    "dwi_wmm = 'sub-%s_var-fs_space-dwi_class-wm_dtissue.nii.gz' % sub\n",
    "b0 = 'sub-%s/dwi/sub-%s_var-b0_dwi.nii.gz' % (sub, sub)\n",
    "!flirt -in {wdir}/{t1w_wmm} \\\n",
    "    -ref {b0} \\\n",
    "    -omat {wdir}/{omat} \n",
    "!flirt -in {wdir}/{t1w_wmm} \\\n",
    "    -ref {b0} \\\n",
    "    -applyxfm -init {wdir}/{omat} \\\n",
    "    -out {wdir}/{dwi_wmm} \\\n",
    "    -interp nearestneighbour"
   ]
  },
  {
   "cell_type": "code",
   "execution_count": null,
   "metadata": {
    "collapsed": false
   },
   "outputs": [],
   "source": []
  },
  {
   "cell_type": "code",
   "execution_count": null,
   "metadata": {
    "collapsed": true
   },
   "outputs": [],
   "source": []
  },
  {
   "cell_type": "code",
   "execution_count": 62,
   "metadata": {
    "collapsed": true
   },
   "outputs": [],
   "source": [
    "dname = 'derivatives/reconstruction/sub-%s' % sub\n",
    "dwi_dir = 'sub-%s/dwi' % sub\n",
    "dwi_src = 'sub-%s_dwi.mif' % sub\n",
    "wmm_dir = 'derivatives/preprocess/sub-%s/anat' % sub\n",
    "wmm_src = 'sub-%s_var-fsl_space-T1w_class-wm_dtissue.nii.gz' % sub\n",
    "dti = 'sub-%s_var-mr3_DTI.mif' % sub\n",
    "fa = 'sub-%s_var-mr3_FA.mif' % sub\n",
    "sf = 'sub-%s_var-mr3_SF.mif' % sub\n",
    "rf = 'sub-%s_var-mr3_response.txt' % sub\n",
    "odf = 'sub-%s_var-mr3_ODF.mif' % sub\n",
    "!mkdir -p {dname}"
   ]
  },
  {
   "cell_type": "code",
   "execution_count": null,
   "metadata": {
    "collapsed": false,
    "scrolled": true
   },
   "outputs": [],
   "source": []
  },
  {
   "cell_type": "code",
   "execution_count": 63,
   "metadata": {
    "collapsed": false
   },
   "outputs": [
    {
     "name": "stdout",
     "output_type": "stream",
     "text": [
      "dwi2tensor: [100%] computing tensors\u001b[0K\n",
      "tensor2metric: [100%] uncompressing image \"derivatives/preprocess/sub-00/anat/sub-00_var-fsl_space-T1w_class-wm_dtissue.nii.gz\"\u001b[0K\n",
      "tensor2metric: \u001b[01;31m[ERROR] dimension mismatch between \"derivatives/reconstruction/sub-00/sub-00_var-mr3_DTI.mif\" and \"derivatives/preprocess/sub-00/anat/sub-00_var-fsl_space-T1w_class-wm_dtissue.nii.gz\"\u001b[0m\n",
      "maskfilter: [100%] uncompressing image \"derivatives/preprocess/sub-00/anat/sub-00_var-fsl_space-T1w_class-wm_dtissue.nii.gz\"\u001b[0K\n",
      "maskfilter: [100%] applying erode filter to image sub-00_var-fsl_space-T1w_class-wm_dtissue.nii.gz\u001b[0K\n",
      "mrmath: [100%] uncompressing image \"derivatives/preprocess/sub-00/anat/sub-00_var-fsl_space-T1w_class-wm_dtissue.nii.gz\"\u001b[0K\n",
      "mrmath: [100%] computing product across 2 images\u001b[0K\n",
      "mrthreshold: [100%] thresholding \"./mrtrix-tmp-YvnKYB.mif\" at intensity 0.69999999999999996\u001b[0K\n"
     ]
    }
   ],
   "source": [
    "!dwi2tensor {dwi_dir}/{dwi_src} {dname}/{dti} \n",
    "!tensor2metric -fa {dname}/{fa} {dname}/{dti} -mask {wmm_dir}/{wmm_src}\n",
    "!maskfilter {wmm_dir}/{wmm_src} erode -npass 3 - | \\\n",
    "    mrmath {wmm_dir}/{wmm_src} - product - | \\\n",
    "    mrthreshold - -abs 0.7 {dname}/{sf}"
   ]
  },
  {
   "cell_type": "code",
   "execution_count": null,
   "metadata": {
    "collapsed": true
   },
   "outputs": [],
   "source": [
    "!dwi2response tournier {dwi_dir}/{dwi_src} \\\n",
    "    -lmax 6 \\\n",
    "    -mask {dname}/{sf} \\\n",
    "    {dname}/{rf}"
   ]
  },
  {
   "cell_type": "code",
   "execution_count": null,
   "metadata": {
    "collapsed": true
   },
   "outputs": [],
   "source": [
    "!dwi2fod csd {dwi_dir}/{dwi_src} \\\n",
    "    {dname}/{rf} \\\n",
    "    -lmax 6 \\\n",
    "    -mask {wmm_dir}/{wmm_src} \\\n",
    "    {dname}/{odf}"
   ]
  },
  {
   "cell_type": "code",
   "execution_count": null,
   "metadata": {
    "collapsed": true
   },
   "outputs": [],
   "source": [
    "!tckgen {dname}/{odf} {dname}/{tck} \\\n",
    "    -algorithm SD_PROB \\\n",
    "    -step $STEP \\\n",
    "    -act ${TT5} \\\n",
    "    -crop_at_gmwmi \\\n",
    "    -seed_dynamic ${ODF} \\\n",
    "    -maxlength 250 \\\n",
    "    -cutoff 0.1 \\\n",
    "    -number 10000\n"
   ]
  },
  {
   "cell_type": "code",
   "execution_count": 68,
   "metadata": {
    "collapsed": true
   },
   "outputs": [],
   "source": [
    "import os"
   ]
  },
  {
   "cell_type": "code",
   "execution_count": 74,
   "metadata": {
    "collapsed": false
   },
   "outputs": [
    {
     "name": "stdout",
     "output_type": "stream",
     "text": [
      "['sub-00', 'input', 'derivatives']\n"
     ]
    },
    {
     "data": {
      "text/plain": [
       "['derivatives', 'input', 'sub-00']"
      ]
     },
     "execution_count": 74,
     "metadata": {},
     "output_type": "execute_result"
    }
   ],
   "source": [
    "ss = os.listdir('.')\n",
    "print ss\n",
    "ss.sort()\n",
    "ss"
   ]
  },
  {
   "cell_type": "code",
   "execution_count": null,
   "metadata": {
    "collapsed": true
   },
   "outputs": [],
   "source": [
    "main"
   ]
  }
 ],
 "metadata": {
  "anaconda-cloud": {},
  "kernelspec": {
   "display_name": "Python [conda root]",
   "language": "python",
   "name": "conda-root-py"
  },
  "language_info": {
   "codemirror_mode": {
    "name": "ipython",
    "version": 2
   },
   "file_extension": ".py",
   "mimetype": "text/x-python",
   "name": "python",
   "nbconvert_exporter": "python",
   "pygments_lexer": "ipython2",
   "version": "2.7.12"
  }
 },
 "nbformat": 4,
 "nbformat_minor": 1
}
