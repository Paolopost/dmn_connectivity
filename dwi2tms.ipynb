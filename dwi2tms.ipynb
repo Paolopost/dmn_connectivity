{
 "cells": [
  {
   "cell_type": "code",
   "execution_count": null,
   "metadata": {
    "collapsed": false
   },
   "outputs": [],
   "source": []
  },
  {
   "cell_type": "code",
   "execution_count": null,
   "metadata": {
    "collapsed": false
   },
   "outputs": [],
   "source": [
    "%cd /N/dc2/projects/lifebid/Paolo/code/re_dwi/sandbox"
   ]
  },
  {
   "cell_type": "code",
   "execution_count": null,
   "metadata": {
    "collapsed": false
   },
   "outputs": [],
   "source": [
    "sub = '00'"
   ]
  },
  {
   "cell_type": "markdown",
   "metadata": {},
   "source": [
    "#### Setting Filenames"
   ]
  },
  {
   "cell_type": "code",
   "execution_count": 32,
   "metadata": {
    "collapsed": false
   },
   "outputs": [],
   "source": [
    "dicom_dwi = 'input/sub-%s/dwi' % sub\n",
    "dicom_t1w = 'input/sub-%s/anat' % sub\n",
    "\n",
    "dwi_dir = 'sub-%s/dwi' % sub\n",
    "dwi_src = 'sub-%s_dwi' % sub\n",
    "!mkdir -p {dwi_dir}\n",
    "\n",
    "dwi_pre = 'derivatives/preprocess/sub-%s' % sub\n",
    "!mkdir -p {dwi_pre}\n",
    "\n",
    "b0_src = 'sub-%s_var-b0src_dwi' % sub\n",
    "b0_otsu = 'sub-%s_var-b0otsu_dwi' % sub\n",
    "dwi_nodif = 'sub-%s_var-otsu_dwi_mask' % sub\n",
    "dwi_ecc = 'sub-%s_var-ecc_dwi' % sub\n",
    "b0_ecc = 'sub-%s_var-b0ecc_dwi' % sub\n",
    "\n",
    "t1w_dir = 'sub-%s/anat' % sub\n",
    "t1w_src = 'sub-%s_T1w.nii.gz' % sub\n",
    "!mkdir -p {t1w_dir}\n",
    "\n",
    "t1w_pre = 'derivatives/preprocess/sub-%s' % sub\n",
    "!mkdir -p {t1w_pre}\n",
    "t1w_bet = 'sub-%s_var-bet_T1w.nii.gz' % sub\n",
    "t1w_mas = 'sub-%s_var-bet_T1w_mask.nii.gz' % sub\n",
    "t1w_5tt = 'sub-%s_var-fsl_dtissue' % sub\n",
    "\n",
    "t1w_fsl_wmm = 'sub-%s_var-fsl_space-T1w_class-wm_dtissue.nii.gz' % sub\n",
    "b0_fsl_omat = 'sub-%s_var-fsl_affine.mat' % sub\n",
    "dwi_fsl_wmm = 'sub-%s_var-fsl_space-dwi_class-wm_dtissue.nii.gz' % sub\n",
    "\n",
    "fs_dir = 'derivatives/freesurfer/sub-%s' % sub\n",
    "!mkdir -p {fs_dir}\n",
    "fs_aa_src = '%s/freesurfer/mri/aparc+aseg' % fs_dir\n",
    "fs_mask_src = '%s/freesurfer/mri/brainmask' % fs_dir\n",
    "fs_mask = 'sub-%s_var-fs_T1w_mask.nii.gz' % sub\n",
    "fs_t1w = 'sub-%s_var-fs_T1w.nii.gz' % sub\n",
    "t1w_fs_aa = 'sub-%s_var-fs_dtissue.nii.gz' % sub\n",
    "t1w_fs_wmm = 'sub-%s_var-fs_space-T1w_class-wm_dtissue.nii.gz' % sub\n",
    "b0_fs_omat = 'sub-%s_var-fs_affine.mat' % sub\n",
    "dwi_fs_wmm = 'sub-%s_var-fs_space-dwi_class-wm_dtissue.nii.gz' % sub\n",
    "\n",
    "trk_dir = 'derivatives/tractography/sub-%s' % sub\n",
    "!mkdir -p {trk_dir}\n",
    "dti = 'sub-%s_var-mrx_DTI' % sub\n",
    "fa = 'sub-%s_var-mrx_FA' % sub\n",
    "sf = 'sub-%s_var-mrx_SF' % sub\n",
    "rf = 'sub-%s_var-mrx_response.txt' % sub\n",
    "odf = 'sub-%s_var-mrx_ODF' % sub\n",
    "tck_prob = 'sub-%s_var-prob' % sub\n",
    "\n",
    "con_dir = 'derivatives/connectome/sub-%s' % sub\n",
    "!mkdir -p {con_dir}\n",
    "\n"
   ]
  },
  {
   "cell_type": "markdown",
   "metadata": {},
   "source": [
    "#### Import and convert diffusion data"
   ]
  },
  {
   "cell_type": "code",
   "execution_count": null,
   "metadata": {
    "collapsed": false,
    "scrolled": true
   },
   "outputs": [],
   "source": [
    "tmpdir = '_tmp_dcm2nii'\n",
    "!mkdir -p {tmpdir}\n",
    "\n",
    "!dcm2nii -f y -e n -p n -a n -d n -g n -i n -o {tmpdir} {dicom_dwi}\n",
    "\n",
    "fname = !basename {tmpdir}/*.bval\n",
    "fname = fname[0].strip('.bval')\n",
    "!mv {tmpdir}/{fname}.nii {dwi_dir}/{dwi_src}.nii\n",
    "!gzip -f {dwi_dir}/{dwi_src}.nii\n",
    "!mv {tmpdir}/{fname}.bval {dwi_dir}/{dwi_src}.bvals\n",
    "!mv {tmpdir}/{fname}.bvec {dwi_dir}/{dwi_src}.bvecs\n",
    "!rm -r {tmpdir}"
   ]
  },
  {
   "cell_type": "code",
   "execution_count": null,
   "metadata": {
    "collapsed": true
   },
   "outputs": [],
   "source": [
    "!mrconvert {dwi_dir}/{dwi_src}.nii.gz {dwi_dir}/{dwi_src}.mif \\\n",
    "    -fslgrad {dwi_dir}/{dwi_src}.bvecs {dwi_dir}/{dwi_src}.bvals \\\n",
    "    -datatype float32 -stride 0,0,0,1 -nthreads 5 -force -quiet"
   ]
  },
  {
   "cell_type": "markdown",
   "metadata": {},
   "source": [
    "Diffusion brain mask"
   ]
  },
  {
   "cell_type": "code",
   "execution_count": null,
   "metadata": {
    "collapsed": false
   },
   "outputs": [],
   "source": [
    "!dwiextract  {dwi_dir}/{dwi_src}.mif - -shell 0 -quiet | mrmath - mean {dwi_pre}/{b0_src}.mif -axis 3 -force -quiet \n",
    "!mrconvert {dwi_pre}/{b0_src}.mif {dwi_pre}/{b0_src}.nii.gz -force -quiet"
   ]
  },
  {
   "cell_type": "code",
   "execution_count": null,
   "metadata": {
    "collapsed": false
   },
   "outputs": [],
   "source": [
    "import cmd_median_otsu as cmo\n",
    "mo_src = dwi_pre + '/' + b0_src + '.nii.gz'\n",
    "mo_out = dwi_pre + '/' + b0_otsu + '.nii.gz'\n",
    "mo_mask = dwi_pre + '/' + dwi_nodif + '.nii.gz'\n",
    "cmo.cmd_median_otsu(mo_src, mo_out, mo_mask)\n",
    "!mrconvert {dwi_pre}/{b0_otsu}.nii.gz {dwi_pre}/{b0_otsu}.mif -force -quiet\n",
    "!mrconvert {dwi_pre}/{dwi_nodif}.nii.gz {dwi_pre}/{dwi_nodif}.mif -force -quiet"
   ]
  },
  {
   "cell_type": "markdown",
   "metadata": {},
   "source": [
    "Eddy correction"
   ]
  },
  {
   "cell_type": "code",
   "execution_count": null,
   "metadata": {
    "collapsed": false
   },
   "outputs": [],
   "source": [
    "!eddy_correct {dwi_dir}/{dwi_src}.nii.gz {dwi_pre}/{dwi_ecc}.nii.gz 0"
   ]
  },
  {
   "cell_type": "code",
   "execution_count": 26,
   "metadata": {
    "collapsed": true
   },
   "outputs": [],
   "source": [
    "!mrconvert {dwi_pre}/{dwi_ecc}.nii.gz {dwi_pre}/{dwi_ecc}.mif \\\n",
    "    -fslgrad {dwi_dir}/{dwi_src}.bvecs {dwi_dir}/{dwi_src}.bvals \\\n",
    "    -datatype float32 -stride 0,0,0,1 -nthreads 5 -force -quiet"
   ]
  },
  {
   "cell_type": "code",
   "execution_count": 36,
   "metadata": {
    "collapsed": true
   },
   "outputs": [],
   "source": [
    "!dwiextract  {dwi_pre}/{dwi_ecc}.mif - -shell 0 -quiet | mrmath - mean {dwi_pre}/{b0_ecc}.mif -axis 3 -force -quiet\n",
    "!mrconvert {dwi_pre}/{b0_ecc}.mif {dwi_pre}/{b0_ecc}.nii.gz -force -quiet"
   ]
  },
  {
   "cell_type": "markdown",
   "metadata": {},
   "source": [
    "#### Import structural data"
   ]
  },
  {
   "cell_type": "code",
   "execution_count": null,
   "metadata": {
    "collapsed": false
   },
   "outputs": [],
   "source": [
    "!cp {dicom_t1w}/{t1w_src} {t1w_dir}/{t1w_src}"
   ]
  },
  {
   "cell_type": "markdown",
   "metadata": {},
   "source": [
    "#### Brain extraction with 'bet'"
   ]
  },
  {
   "cell_type": "code",
   "execution_count": null,
   "metadata": {
    "collapsed": false
   },
   "outputs": [],
   "source": [
    "!bet {t1w_dir}/{t1w_src} {t1w_pre}/{t1w_bet} -R -m"
   ]
  },
  {
   "cell_type": "markdown",
   "metadata": {},
   "source": [
    "#### Brain structure segmentation with FSL"
   ]
  },
  {
   "cell_type": "code",
   "execution_count": 31,
   "metadata": {
    "collapsed": false,
    "scrolled": true
   },
   "outputs": [],
   "source": [
    "!5ttgen fsl {t1w_pre}/{t1w_bet} {t1w_pre}/{t1w_5tt}.mif -premasked -nocrop -force -quiet"
   ]
  },
  {
   "cell_type": "code",
   "execution_count": 33,
   "metadata": {
    "collapsed": false
   },
   "outputs": [],
   "source": [
    "!mrconvert {t1w_pre}/{t1w_5tt}.mif {t1w_pre}/{t1w_5tt}.nii.gz -force -quiet"
   ]
  },
  {
   "cell_type": "markdown",
   "metadata": {},
   "source": [
    "#### Brain structure segmentation with FREESURFER"
   ]
  },
  {
   "cell_type": "code",
   "execution_count": null,
   "metadata": {
    "collapsed": true
   },
   "outputs": [],
   "source": [
    "!SUBJECTS_DIR={fs_dir}; recon-all -all -i {t1w_dir}/{t1w_src} -s freesurfer -parallel"
   ]
  },
  {
   "cell_type": "markdown",
   "metadata": {},
   "source": [
    "#### White Matter mask segmentation with FSL"
   ]
  },
  {
   "cell_type": "code",
   "execution_count": 34,
   "metadata": {
    "collapsed": false
   },
   "outputs": [],
   "source": [
    "tmpdir = '_tmp_wm'\n",
    "!mkdir -p {tmpdir}\n",
    "!fslsplit {t1w_pre}/{t1w_5tt}.nii.gz {tmpdir}/wm_ -t \n",
    "!mv {tmpdir}/wm_0002.nii.gz {t1w_pre}/{t1w_fsl_wmm}\n",
    "!rm -r {tmpdir}"
   ]
  },
  {
   "cell_type": "code",
   "execution_count": 47,
   "metadata": {
    "collapsed": false
   },
   "outputs": [],
   "source": [
    "!flirt -in {t1w_pre}/{t1w_fsl_wmm} \\\n",
    "    -ref {dwi_pre}/{b0_ecc}.nii.gz \\\n",
    "    -omat {t1w_pre}/{b0_fsl_omat} \n",
    "!flirt -in {t1w_pre}/{t1w_fsl_wmm} \\\n",
    "    -ref {dwi_pre}/{b0_ecc}.nii.gz \\\n",
    "    -applyxfm -init {t1w_pre}/{b0_fsl_omat} \\\n",
    "    -out {t1w_pre}/{dwi_fsl_wmm} \\\n",
    "    -interp nearestneighbour"
   ]
  },
  {
   "cell_type": "markdown",
   "metadata": {},
   "source": [
    "#### White Matter mask segmentation with FREESURFER"
   ]
  },
  {
   "cell_type": "code",
   "execution_count": null,
   "metadata": {
    "collapsed": true
   },
   "outputs": [],
   "source": [
    "from wm_from_aparc_aseg import wm_from_aparc_aseg\n",
    "!mri_convert {fs_aparc_aseg} {t1w_pre}/{aparc_aseg}\n",
    "wdir = 'derivatives/preprocess/sub-%s/anat' % sub\n",
    "t1w_wmm = t1w_pre + '/' + 'sub-%s_var-fs_space-T1w_class-wm_dtissue.nii.gz' % sub\n",
    "aparc_aseg = fs_dir + '/' + \n",
    "wm_from_aparc_aseg(aparc_aseg, t1w_wmm )"
   ]
  },
  {
   "cell_type": "code",
   "execution_count": null,
   "metadata": {
    "collapsed": false
   },
   "outputs": [],
   "source": [
    "omat = 'sub-%s_var-fs_affine.mat' % sub\n",
    "dwi_wmm = 'sub-%s_var-fs_space-dwi_class-wm_dtissue.nii.gz' % sub\n",
    "b0 = 'sub-%s/dwi/sub-%s_var-b0_dwi.nii.gz' % (sub, sub)\n",
    "!flirt -in {wdir}/{t1w_wmm} \\\n",
    "    -ref {b0} \\\n",
    "    -omat {wdir}/{omat} \n",
    "!flirt -in {wdir}/{t1w_wmm} \\\n",
    "    -ref {b0} \\\n",
    "    -applyxfm -init {wdir}/{omat} \\\n",
    "    -out {wdir}/{dwi_wmm} \\\n",
    "    -interp nearestneighbour"
   ]
  },
  {
   "cell_type": "code",
   "execution_count": null,
   "metadata": {
    "collapsed": false
   },
   "outputs": [],
   "source": []
  },
  {
   "cell_type": "code",
   "execution_count": null,
   "metadata": {
    "collapsed": true
   },
   "outputs": [],
   "source": []
  },
  {
   "cell_type": "code",
   "execution_count": null,
   "metadata": {
    "collapsed": true
   },
   "outputs": [],
   "source": []
  },
  {
   "cell_type": "markdown",
   "metadata": {
    "collapsed": false,
    "scrolled": true
   },
   "source": [
    "Model Reconstruction"
   ]
  },
  {
   "cell_type": "code",
   "execution_count": null,
   "metadata": {
    "collapsed": true
   },
   "outputs": [],
   "source": [
    "# Choice of white matter mask\n",
    "wmm_ref = dwi_fsl_wmm"
   ]
  },
  {
   "cell_type": "code",
   "execution_count": null,
   "metadata": {
    "collapsed": true
   },
   "outputs": [],
   "source": [
    "!mrconvert {dwi_pre}/{dwi_ecc}.nii.gz {dwi_pre}/{dwi_ecc}.mif"
   ]
  },
  {
   "cell_type": "code",
   "execution_count": null,
   "metadata": {
    "collapsed": false
   },
   "outputs": [],
   "source": [
    "# Computation of mask for response estimate\n",
    "!dwi2tensor {dwi_pre}/{dwi_ecc}.mif {trk_dir}/{dti}.mif \n",
    "!tensor2metric -fa {trk_dir}/{fa}.mif {trk_dir}/{dti}.mif -mask {dwi_pre}/{wmm_ref}\n",
    "!maskfilter {dwi_pre}/{wmm_ref} erode -npass 3 - | \\\n",
    "    mrmath {dwi_pre}/{wmm_ref} - product - | \\\n",
    "    mrthreshold - -abs 0.7 {trk_dir}/{sf}.mif"
   ]
  },
  {
   "cell_type": "code",
   "execution_count": null,
   "metadata": {
    "collapsed": true
   },
   "outputs": [],
   "source": [
    "# Estimate of response function\n",
    "!dwi2response tournier {dwi_pre}/{dwi_ecc}.mif \\\n",
    "    -mask {trk_dir}/{sf}.mif \\\n",
    "    {trk_dir}/{rf}"
   ]
  },
  {
   "cell_type": "code",
   "execution_count": null,
   "metadata": {
    "collapsed": true
   },
   "outputs": [],
   "source": [
    "# Computation of the constraint spherical deconvolution\n",
    "!dwi2fod csd {dwi_pre}/{dwi_ecc}.mif \\\n",
    "    {trk_dir}/{rf} \\\n",
    "    -mask {dwi_pre}/{wmm_ref} \\\n",
    "    {trk_dir}/{odf}.mif"
   ]
  },
  {
   "cell_type": "markdown",
   "metadata": {},
   "source": [
    "Tracking"
   ]
  },
  {
   "cell_type": "code",
   "execution_count": null,
   "metadata": {
    "collapsed": true
   },
   "outputs": [],
   "source": [
    "# Computation of probabilistic tracking\n",
    "tck_step = 0.5\n",
    "tck_cutoff = 0.1\n",
    "tck_number = 100000\n",
    "tck_maxlength 250\n",
    "\n",
    "!tckgen {trk_dir}/{odf}.mif {trk_dir}/{trk_prob}.tck \\\n",
    "    -algorithm SD_PROB \\\n",
    "    -step {tck_step} \\\n",
    "    -seed_dynamic {trk_dir}/{odf}.mif \\\n",
    "    -maxlength {tck_maxlength} \\\n",
    "    -cutoff {tck_cutoff} \\\n",
    "    -number {tck_number}"
   ]
  },
  {
   "cell_type": "code",
   "execution_count": null,
   "metadata": {
    "collapsed": true
   },
   "outputs": [],
   "source": []
  },
  {
   "cell_type": "code",
   "execution_count": null,
   "metadata": {
    "collapsed": false
   },
   "outputs": [],
   "source": [
    "ss = os.listdir('.')\n",
    "print ss\n",
    "ss.sort()\n",
    "ss"
   ]
  },
  {
   "cell_type": "code",
   "execution_count": null,
   "metadata": {
    "collapsed": true
   },
   "outputs": [],
   "source": [
    "main"
   ]
  }
 ],
 "metadata": {
  "anaconda-cloud": {},
  "kernelspec": {
   "display_name": "Python [conda root]",
   "language": "python",
   "name": "conda-root-py"
  },
  "language_info": {
   "codemirror_mode": {
    "name": "ipython",
    "version": 2
   },
   "file_extension": ".py",
   "mimetype": "text/x-python",
   "name": "python",
   "nbconvert_exporter": "python",
   "pygments_lexer": "ipython2",
   "version": "2.7.12"
  }
 },
 "nbformat": 4,
 "nbformat_minor": 1
}
